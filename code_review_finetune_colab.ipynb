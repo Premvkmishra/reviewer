{
 "cells": [
  {
   "cell_type": "markdown",
   "metadata": {},
   "source": [
    "# 🤖 Code Review Fine-Tuning Notebook\n",
    "**Train StarCoder or similar models using CodeXGLUE, Devign, and your own data**\n",
    "\n",
    "---\n",
    "✅ Dataset merging\n",
    "✅ JSONL formatting\n",
    "✅ Optional Hugging Face upload\n",
    "✅ Fine-tuning setup\n",
    "\n",
    "_Generated on: 2025-06-26 08:07_"
   ]
  },
  {
   "cell_type": "code",
   "execution_count": null,
   "metadata": {},
   "outputs": [],
   "source": [
    "# 📦 Install dependencies\n",
    "!pip install datasets transformers accelerate tqdm"
   ]
  },
  {
   "cell_type": "code",
   "execution_count": null,
   "metadata": {},
   "outputs": [],
   "source": [
    "# 📥 Load and Combine Datasets\n",
    "from datasets import load_dataset\n",
    "import json\n",
    "from tqdm import tqdm\n",
    "\n",
    "output_data = []\n",
    "\n",
    "# Load CodeXGLUE\n",
    "codeglue = load_dataset(\"code_x_glue_cc_code_to_text\", \"python\")\n",
    "for item in tqdm(codeglue['train'].select(range(1000))):\n",
    "    prompt = f\"### Code:\\n{item['code']}\\n### Review:\"\n",
    "    completion = \" \" + item['docstring'].strip()\n",
    "    output_data.append({\"prompt\": prompt, \"completion\": completion})\n",
    "\n",
    "# Load Devign\n",
    "devign = load_dataset(\"microsoft/Devign\")\n",
    "for item in tqdm(devign['train'].select(range(1000))):\n",
    "    label = \"Vulnerable\" if item['target'] else \"Safe\"\n",
    "    prompt = f\"### Code:\\n{item['func']}\\n### Is this vulnerable?\"\n",
    "    completion = f\" {label}\"\n",
    "    output_data.append({\"prompt\": prompt, \"completion\": completion})\n",
    "\n",
    "# Add personal data\n",
    "my_data = [\n",
    "    {\"code\": \"def hello(): print('hi')\", \"review\": \"Add a docstring.\"}\n",
    "]\n",
    "for item in my_data:\n",
    "    output_data.append({\n",
    "        \"prompt\": f\"### Code:\\n{item['code']}\\n### Review:\",\n",
    "        \"completion\": \" \" + item['review']\n",
    "    })\n",
    "\n",
    "# Save JSONL\n",
    "with open(\"fine_tune_data.jsonl\", \"w\") as f:\n",
    "    for item in output_data:\n",
    "        f.write(json.dumps(item) + \"\\n\")\n",
    "\n",
    "print(\"✅ Dataset ready\")"
   ]
  },
  {
   "cell_type": "code",
   "execution_count": null,
   "metadata": {},
   "outputs": [],
   "source": [
    "# 🚀 Fine-tune a small StarCoder model\n",
    "from transformers import AutoTokenizer, AutoModelForCausalLM, TrainingArguments, Trainer, DataCollatorForLanguageModeling\n",
    "from datasets import load_dataset\n",
    "\n",
    "model_name = \"bigcode/starcoderbase-1b\"\n",
    "tokenizer = AutoTokenizer.from_pretrained(model_name)\n",
    "model = AutoModelForCausalLM.from_pretrained(model_name)\n",
    "\n",
    "dataset = load_dataset(\"json\", data_files=\"fine_tune_data.jsonl\", split=\"train\")\n",
    "\n",
    "def tokenize(example):\n",
    "    return tokenizer(example[\"prompt\"] + example[\"completion\"], truncation=True, max_length=512)\n",
    "\n",
    "tokenized = dataset.map(tokenize)\n",
    "\n",
    "args = TrainingArguments(\n",
    "    output_dir=\"./checkpoints\",\n",
    "    per_device_train_batch_size=2,\n",
    "    num_train_epochs=1,\n",
    "    logging_steps=10,\n",
    "    save_steps=50,\n",
    "    fp16=True\n",
    ")\n",
    "\n",
    "trainer = Trainer(\n",
    "    model=model,\n",
    "    args=args,\n",
    "    train_dataset=tokenized,\n",
    "    data_collator=DataCollatorForLanguageModeling(tokenizer, mlm=False),\n",
    ")\n",
    "\n",
    "trainer.train()"
   ]
  }
 ],
 "metadata": {
  "kernelspec": {
   "display_name": "Python 3",
   "name": "python3"
  },
  "language_info": {
   "name": "python",
   "version": "3.x"
  }
 },
 "nbformat": 4,
 "nbformat_minor": 2
}
